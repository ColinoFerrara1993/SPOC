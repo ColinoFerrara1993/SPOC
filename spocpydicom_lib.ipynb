{
 "cells": [
  {
   "cell_type": "code",
   "execution_count": null,
   "metadata": {},
   "outputs": [],
   "source": [
    "import pydicom\n",
    "from pydicom import dcmread\n",
    "import numpy as np\n",
    "import root_numpy\n",
    "import os\n",
    "import skimage"
   ]
  },
  {
   "cell_type": "code",
   "execution_count": null,
   "metadata": {},
   "outputs": [],
   "source": [
    "class SPOC: \n",
    "    def __init__(self, id, num) -> None:\n",
    "        self.projections = 6\n",
    "        self.id = 1\n",
    "        self.num = 0\n",
    "        self.path = '/.../'\n",
    "        self.pixelsize = 0.4\n",
    "        self.type = {\n",
    "            'experimental' : 0,\n",
    "            'simulated' : 1\n",
    "        }\n",
    "\n",
    "    def _getpath_(self) -> None:\n",
    "        self.path = os.path.expandvars('../../Dataset')\n",
    "        images_dir = 'images'\n",
    "        dicom_dir = 'dicoms'\n",
    "        exp_path = os.path.join(self.path, 'experimental')\n",
    "        simul_path = os.path.join(self.path, 'simulated')\n",
    "        exp_images_path = os.path.join(exp_path, images_dir)\n",
    "        sim_images_path = os.path.join(simul_path, images_dir)\n",
    "\n",
    "        dicom_path = os.path.join(self.path, 'dicom')\n",
    "        dic_images_path = os.path.join(dicom_path, dicom_dir)\n",
    "\n",
    "        return (exp_images_path, sim_images_path, dic_images_path)\n",
    "    \n",
    "    def _getparam_(self, typology: list[str]) -> None:\n",
    "        print('get parameter from file')\n",
    "        self.distance = self.focal * 2\n",
    "        self.angle = 7.\n",
    "        # take parameter from dicom file\n",
    "        ds = dcmread(SPOC._getpath_()[self.type[typology]])\n",
    "        array = ds.pixel_array\n",
    "\n",
    "        if self.projections == 4:\n",
    "            \n",
    "\n",
    "\n",
    "    def import_file(self, typology: list[str] ) -> None:\n",
    "\n",
    "        if typology == self.type[0]:\n",
    "\n",
    "             images = [f for f in os.listdir(SPOC._getpath_()[self.type[typology]]) if f.endswith('.txt')]\n",
    "\n",
    "        elif typology == self.type[1]:\n",
    "\n",
    "            images = [f for f in os.listdir(SPOC._getpath_()[self.type[typology]]) if f.endswith('.txt') and f.startswith('_')]\n",
    "\n",
    "        else:\n",
    "            print('experimental or simulated have to insert')\n",
    "\n",
    "        return images"
   ]
  }
 ],
 "metadata": {
  "colab": {
   "provenance": []
  },
  "kernelspec": {
   "display_name": "Python 3 (ipykernel)",
   "language": "python",
   "name": "python3"
  },
  "language_info": {
   "codemirror_mode": {
    "name": "ipython",
    "version": 3
   },
   "file_extension": ".py",
   "mimetype": "text/x-python",
   "name": "python",
   "nbconvert_exporter": "python",
   "pygments_lexer": "ipython3",
   "version": "3.9.6"
  }
 },
 "nbformat": 4,
 "nbformat_minor": 1
}
